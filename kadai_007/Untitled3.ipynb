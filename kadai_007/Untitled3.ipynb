{
  "nbformat": 4,
  "nbformat_minor": 0,
  "metadata": {
    "colab": {
      "provenance": []
    },
    "kernelspec": {
      "name": "python3",
      "display_name": "Python 3"
    },
    "language_info": {
      "name": "python"
    }
  },
  "cells": [
    {
      "cell_type": "code",
      "execution_count": 28,
      "metadata": {
        "colab": {
          "base_uri": "https://localhost:8080/"
        },
        "id": "_l50AwEitoBF",
        "outputId": "3f4b156b-f0c6-4c80-a70d-df406e597214"
      },
      "outputs": [
        {
          "output_type": "stream",
          "name": "stdout",
          "text": [
            "水曜日は晴れです\n",
            "晴れ\n"
          ]
        }
      ],
      "source": [
        "array = (\n",
        "    \"月曜日は晴れです\",\n",
        "    \"火曜日は雨です\",\n",
        "    \"水曜日は晴れです\",\n",
        "    \"木曜日は晴れです\",\n",
        "    \"金曜日は曇りです\",\n",
        "    \"土曜日は曇りのち雨です\",\n",
        "    \"日曜日は雷雨です\"\n",
        "    )\n",
        "print(array[2])\n",
        "\n",
        "dictionary = {\n",
        "    \"mon\":\"晴れ\",\n",
        "    \"tue\":\t\"雨\",\n",
        "    \"wed\":\"晴れ\",\n",
        "    \"thu\": \"晴れ\",\n",
        "    \"fri\":\"\t曇り\",\n",
        "    \"sat\"\t:\"曇りのち雨\",\n",
        "    \"sun\": \"雷雨\"\n",
        "    }\n",
        "print(dictionary[\"wed\"])\n",
        "\n",
        "\n",
        "\n",
        "\n",
        "# ver = 20\n",
        "\n",
        "# if ver % 3 == 0 and ver % 5 == 0:\n",
        "#     print(\"FizzBuzz\")\n",
        "# elif ver % 3 == 0:\n",
        "#     print(\"Fizz\")\n",
        "# elif ver % 5 == 0:\n",
        "#     print(\"Buzz\")\n",
        "\n"
      ]
    }
  ]
}