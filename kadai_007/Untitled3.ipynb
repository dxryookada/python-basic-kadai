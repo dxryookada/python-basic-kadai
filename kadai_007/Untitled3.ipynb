{
  "nbformat": 4,
  "nbformat_minor": 0,
  "metadata": {
    "colab": {
      "provenance": []
    },
    "kernelspec": {
      "name": "python3",
      "display_name": "Python 3"
    },
    "language_info": {
      "name": "python"
    }
  },
  "cells": [
    {
      "cell_type": "code",
      "execution_count": 3,
      "metadata": {
        "colab": {
          "base_uri": "https://localhost:8080/"
        },
        "id": "_l50AwEitoBF",
        "outputId": "082a7249-100a-4363-fd16-7c2a61ac5cc0"
      },
      "outputs": [
        {
          "output_type": "stream",
          "name": "stdout",
          "text": [
            "('月曜日は晴れです', '火曜日は雨です', '水曜日は晴れです', '木曜日は晴れです', '金曜日は曇りです', '土曜日は曇りのち雨です', '日曜日は雷雨です')\n",
            "{'mon': '晴れ', 'tue': '雨', 'wed': '晴れ', 'thu': '晴れ', 'fri': '\\t曇り', 'sat': '曇りのち雨', 'sun': '雷雨'}\n"
          ]
        }
      ],
      "source": [
        "array = (\n",
        "    \"月曜日は晴れです\",\n",
        "    \"火曜日は雨です\",\n",
        "    \"水曜日は晴れです\",\n",
        "    \"木曜日は晴れです\",\n",
        "    \"金曜日は曇りです\",\n",
        "    \"土曜日は曇りのち雨です\",\n",
        "    \"日曜日は雷雨です\"\n",
        "    )\n",
        "print(array)\n",
        "\n",
        "dictionary = {\n",
        "    \"mon\":\"晴れ\",\n",
        "    \"tue\":\t\"雨\",\n",
        "    \"wed\":\"晴れ\",\n",
        "    \"thu\": \"晴れ\",\n",
        "    \"fri\":\"\t曇り\",\n",
        "    \"sat\"\t:\"曇りのち雨\",\n",
        "    \"sun\": \"雷雨\"\n",
        "    }\n",
        "print(dictionary)"
      ]
    }
  ]
}