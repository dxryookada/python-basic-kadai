{
  "nbformat": 4,
  "nbformat_minor": 0,
  "metadata": {
    "colab": {
      "provenance": []
    },
    "kernelspec": {
      "name": "python3",
      "display_name": "Python 3"
    },
    "language_info": {
      "name": "python"
    }
  },
  "cells": [
    {
      "cell_type": "code",
      "execution_count": 3,
      "metadata": {
        "colab": {
          "base_uri": "https://localhost:8080/"
        },
        "id": "_l50AwEitoBF",
        "outputId": "1a37787b-819d-450e-d89d-7a7edfce2147"
      },
      "outputs": [
        {
          "output_type": "stream",
          "name": "stdout",
          "text": [
            "14\n"
          ]
        }
      ],
      "source": [
        "ver = 14\n",
        "\n",
        "if ver % 3 == 0 and ver % 5 == 0:\n",
        "    print(\"FizzBuzz\")\n",
        "elif ver % 3 == 0:\n",
        "    print(\"Fizz\")\n",
        "elif ver % 5 == 0:\n",
        "    print(\"Buzz\")\n",
        "else:\n",
        "    print(ver)\n"
      ]
    }
  ]
}