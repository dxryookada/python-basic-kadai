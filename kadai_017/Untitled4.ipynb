{
  "nbformat": 4,
  "nbformat_minor": 0,
  "metadata": {
    "colab": {
      "provenance": []
    },
    "kernelspec": {
      "name": "python3",
      "display_name": "Python 3"
    },
    "language_info": {
      "name": "python"
    }
  },
  "cells": [
    {
      "cell_type": "code",
      "source": [
        "class Human():\n",
        "  n = 0\n",
        "\n",
        "  def __init__(self, name, age):\n",
        "    self.n += 1\n",
        "    self.name = name\n",
        "    self.age = age\n",
        "\n",
        "  def check_adult(self):\n",
        "    if self.age >= 20:\n",
        "      return f\"{self.name}: 大人です\"\n",
        "    else:\n",
        "      return f\"{self.name}: 子供です\"\n",
        "\n",
        "S = Human(\"Saitou\", 22)\n",
        "N = Human(\"Nakano\", 23)\n",
        "T = Human(\"Tohyama\", 14)\n",
        "A = Human(\"Akashi\", 13)\n",
        "\n",
        "print(S.check_adult())\n",
        "print(N.check_adult())\n",
        "print(T.check_adult())\n",
        "print(A.check_adult())\n"
      ],
      "metadata": {
        "colab": {
          "base_uri": "https://localhost:8080/"
        },
        "id": "FbFmFksTvK8h",
        "outputId": "68eb4bce-8682-4f45-841c-5f1b6a3d698e"
      },
      "execution_count": 1,
      "outputs": [
        {
          "output_type": "stream",
          "name": "stdout",
          "text": [
            "Saitou: 大人です\n",
            "Nakano: 大人です\n",
            "Tohyama: 子供です\n",
            "Akashi: 子供です\n"
          ]
        }
      ]
    }
  ]
}