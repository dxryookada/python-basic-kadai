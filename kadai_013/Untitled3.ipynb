{
  "nbformat": 4,
  "nbformat_minor": 0,
  "metadata": {
    "colab": {
      "provenance": []
    },
    "kernelspec": {
      "name": "python3",
      "display_name": "Python 3"
    },
    "language_info": {
      "name": "python"
    }
  },
  "cells": [
    {
      "cell_type": "code",
      "execution_count": 23,
      "metadata": {
        "colab": {
          "base_uri": "https://localhost:8080/"
        },
        "id": "_l50AwEitoBF",
        "outputId": "9f03b0f5-9f8d-4a73-8ae5-b1ff465072d3"
      },
      "outputs": [
        {
          "output_type": "stream",
          "name": "stdout",
          "text": [
            "税込み1320.0円\n"
          ]
        }
      ],
      "source": [
        "def calculate_total(price):\n",
        "\n",
        "  total = price + price * 0.1\n",
        "\n",
        "  print(f\"税込み{total}円\")\n",
        "\n",
        "calculate_total(1200)"
      ]
    }
  ]
}