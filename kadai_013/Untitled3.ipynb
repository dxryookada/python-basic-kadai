{
  "nbformat": 4,
  "nbformat_minor": 0,
  "metadata": {
    "colab": {
      "provenance": []
    },
    "kernelspec": {
      "name": "python3",
      "display_name": "Python 3"
    },
    "language_info": {
      "name": "python"
    }
  },
  "cells": [
    {
      "cell_type": "code",
      "execution_count": 39,
      "metadata": {
        "colab": {
          "base_uri": "https://localhost:8080/"
        },
        "id": "_l50AwEitoBF",
        "outputId": "03e39e90-cec6-4085-c573-adfedc5f20bf"
      },
      "outputs": [
        {
          "output_type": "stream",
          "name": "stdout",
          "text": [
            "税込み1320.0円\n"
          ]
        }
      ],
      "source": [
        "def calculate_total(price, tax):\n",
        "  total = price + (price * tax)\n",
        "\n",
        "  print(f\"税込み{total}円\")\n",
        "\n",
        "calculate_total(1200, 0.1)"
      ]
    }
  ]
}