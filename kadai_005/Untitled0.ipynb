{
  "nbformat": 4,
  "nbformat_minor": 0,
  "metadata": {
    "colab": {
      "provenance": []
    },
    "kernelspec": {
      "name": "python3",
      "display_name": "Python 3"
    },
    "language_info": {
      "name": "python"
    }
  },
  "cells": [
    {
      "cell_type": "code",
      "execution_count": 29,
      "metadata": {
        "id": "O6CaV0FPU20j",
        "colab": {
          "base_uri": "https://localhost:8080/"
        },
        "outputId": "522bfbee-b1c9-4f7e-e185-657c739fde52"
      },
      "outputs": [
        {
          "output_type": "stream",
          "name": "stdout",
          "text": [
            "75.0cm2\n"
          ]
        }
      ],
      "source": [
        "jyohen = 10\n",
        "kahen = 20\n",
        "takasa =5\n",
        "\n",
        "print(f\"{(jyohen+kahen)*takasa/2}cm2\")"
      ]
    }
  ]
}